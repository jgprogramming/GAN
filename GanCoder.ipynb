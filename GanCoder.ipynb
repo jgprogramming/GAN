{
  "nbformat": 4,
  "nbformat_minor": 0,
  "metadata": {
    "colab": {
      "name": "GanCoder.ipynb",
      "version": "0.3.2",
      "provenance": [],
      "collapsed_sections": [],
      "include_colab_link": true
    },
    "kernelspec": {
      "name": "python3",
      "display_name": "Python 3"
    },
    "accelerator": "GPU"
  },
  "cells": [
    {
      "cell_type": "markdown",
      "metadata": {
        "id": "view-in-github",
        "colab_type": "text"
      },
      "source": [
        "<a href=\"https://colab.research.google.com/github/jgprogramming/GANCoder/blob/master/GanCoder.ipynb\" target=\"_parent\"><img src=\"https://colab.research.google.com/assets/colab-badge.svg\" alt=\"Open In Colab\"/></a>"
      ]
    },
    {
      "metadata": {
        "id": "jH2r9KLIgx-Q",
        "colab_type": "code",
        "colab": {}
      },
      "cell_type": "code",
      "source": [
        "import tensorflow as tf\n",
        "from tqdm import tqdm\n",
        "import numpy as np\n",
        "\n",
        "class Encoder:\n",
        "  \n",
        "  session = None\n",
        "  message_size = None\n",
        "  batch_size = None\n",
        "  noise_multiplier = None\n",
        "  \n",
        "  D_optim = None\n",
        "  G_optim = None\n",
        "  DEC_optim = None\n",
        "  \n",
        "  x = None\n",
        "  message = None\n",
        "  isTrain = None\n",
        "  z = None\n",
        "  \n",
        "  gen = None\n",
        "  gen_binary = None\n",
        "  dec = None\n",
        "  \n",
        "  def __init__(self, session, message_size=60, batch_size = 512, noise_multiplier=1):\n",
        "    \n",
        "    self.session = session\n",
        "    self.message_size = message_size\n",
        "    self.batch_size = batch_size\n",
        "    self.noise_multiplier = noise_multiplier\n",
        "    lr = 0.001\n",
        "    \n",
        "    # placeholders\n",
        "    x = tf.placeholder(tf.float32, shape=(None, 32, 32, 1))\n",
        "    # noise\n",
        "    z = tf.placeholder(tf.float32, shape=(None, self.message_size*self.noise_multiplier, 1, 1))\n",
        "    \n",
        "    # message\n",
        "    message = tf.placeholder(tf.float32, shape=(None, self.message_size, 1, 1))\n",
        "    isTrain = tf.placeholder(dtype=tf.bool)\n",
        "\n",
        "    self.x = x\n",
        "    self.z = z\n",
        "    self.message = message\n",
        "    self.isTrain = isTrain\n",
        "    \n",
        "    # generator - fake\n",
        "    bin_G_z, G_z = self.generator(message, z, isTrain)\n",
        "    DEC_g = self.decoder(bin_G_z, isTrain)\n",
        "\n",
        "    self.gen = G_z\n",
        "    self.gen_binary = bin_G_z\n",
        "    self.dec = DEC_g\n",
        "    \n",
        "    # discriminator - real\n",
        "    D_real, D_real_logits = self.discriminator(x, isTrain)\n",
        "\n",
        "    # discriminator - fake\n",
        "    D_fake, D_fake_logits = self.discriminator(G_z, isTrain, reuse=True)\n",
        "\n",
        "    # loses\n",
        "    # disc\n",
        "    D_loss_real = tf.reduce_mean(tf.nn.sigmoid_cross_entropy_with_logits(logits=D_real_logits, labels=tf.ones([batch_size, 1, 1, 1])))\n",
        "    D_loss_fake = tf.reduce_mean(tf.nn.sigmoid_cross_entropy_with_logits(logits=D_fake_logits, labels=tf.zeros([batch_size, 1, 1, 1])))\n",
        "    D_loss = D_loss_real + D_loss_fake\n",
        "\n",
        "    # gen\n",
        "    DEC_loss = tf.losses.mean_squared_error(DEC_g, message)\n",
        "    G_loss = tf.reduce_mean(tf.nn.sigmoid_cross_entropy_with_logits(logits=D_fake_logits, labels=tf.ones([batch_size, 1, 1, 1])))\n",
        "\n",
        "    # trainable variables\n",
        "    T_vars = tf.trainable_variables()\n",
        "    D_vars = [var for var in T_vars if var.name.startswith('discriminator')]\n",
        "    G_vars = [var for var in T_vars if var.name.startswith('generator') or var.name.startswith('decoder')]\n",
        "\n",
        "    # optimizers\n",
        "    with tf.control_dependencies(tf.get_collection(tf.GraphKeys.UPDATE_OPS)):\n",
        "        self.D_optim = tf.train.AdamOptimizer(lr, beta1=0.4).minimize(D_loss, var_list=D_vars)\n",
        "        self.G_optim = tf.train.AdamOptimizer(lr, beta1=0.4).minimize(G_loss, var_list=G_vars)\n",
        "        self.DEC_optim = tf.train.AdamOptimizer(lr, beta1=0.4).minimize(DEC_loss, var_list=G_vars)\n",
        "  \n",
        "  def train(self, train_data, epochs=1):\n",
        "    sess = self.session\n",
        "    init = tf.global_variables_initializer()\n",
        "    sess.run(init)\n",
        "    for epoch in tqdm(range(epochs)):\n",
        "      for iter in range(len(train_data) // self.batch_size):\n",
        "          x_ = train_data[iter*self.batch_size:(iter+1)*self.batch_size]\n",
        "          message_ = (np.random.randint(2, size=[self.batch_size, self.message_size, 1, 1]) - 0.5) * 2\n",
        "          z_ = np.random.normal(0, 1, (self.batch_size, self.message_size*self.noise_multiplier, 1, 1))\n",
        "          \n",
        "          # discriminator\n",
        "          sess.run([self.D_optim], {self.x: x_, self.message: message_, self.z: z_, self.isTrain: True})\n",
        "\n",
        "          # generator\n",
        "          message_ = (np.random.randint(2, size=[self.batch_size, self.message_size, 1, 1]) - 0.5) * 2\n",
        "          z_ = np.random.normal(0, 1, (self.batch_size, self.message_size*self.noise_multiplier, 1, 1))\n",
        "          sess.run([self.G_optim], {self.x: x_, self.message: message_, self.z: z_, self.isTrain: True})\n",
        "\n",
        "          \n",
        "          # encoder\n",
        "          message_ = (np.random.randint(2, size=[self.batch_size, self.message_size, 1, 1]) - 0.5) * 2\n",
        "          z_ = np.random.normal(0, 1, (self.batch_size, self.message_size*self.noise_multiplier, 1, 1))\n",
        "          sess.run([self.DEC_optim], {self.x: x_, self.message: message_, self.z: z_, self.isTrain: True})\n",
        "\n",
        "  def encode(self, message, tries=20):\n",
        "    sess = self.session\n",
        "    \n",
        "    message = np.repeat(message, tries, axis=0)\n",
        "    z_ = np.random.normal(0, 1, (np.shape(message)[0], self.message_size*self.noise_multiplier, 1, 1))\n",
        "    gen, binary = sess.run([self.gen, self.gen_binary ], { self.message: message,self.z: z_, self.isTrain: False})\n",
        "    \n",
        "    decoded = self.decode(binary)\n",
        "    \n",
        "    message = np.reshape(message, [-1, self.message_size])\n",
        "    decoded = np.reshape(decoded, [-1, self.message_size])\n",
        "    try:\n",
        "      index = np.where(np.all(np.equal(message, decoded), axis = 1)==True)[0][0]\n",
        "      return [gen[index]], [binary[index]], [True]\n",
        "    except:\n",
        "      return [gen[0]], [binary[0]], [False]\n",
        "    \n",
        "    \n",
        "  def encodeString(self, string, tries=1000):\n",
        "    \n",
        "    images = []\n",
        "    binaries = []\n",
        "    bits = tobits(string)\n",
        "    chunks = int(np.ceil(len(bits) / self.message_size))    \n",
        "    bits = np.pad(bits, (0, self.message_size * chunks) , 'constant', constant_values=(0, 0))\n",
        "    \n",
        "    for i in range(chunks):\n",
        "      encode_chunk = bits[self.message_size*i:self.message_size*(i+1)]\n",
        "      encode_chunk = (encode_chunk * 2) - 1\n",
        "      encode_chunk = np.reshape(encode_chunk, [1, self.message_size, 1, 1])\n",
        "      found = False\n",
        "      while not found:\n",
        "        image_, binary_, f = self.encode(encode_chunk, tries=tries)\n",
        "        image_ = np.reshape(image_[0], [32, 32])\n",
        "        if f[0]:\n",
        "          found = f[0]\n",
        "          images += [image_]\n",
        "          binaries += [binary_]\n",
        "          print(\"chunk \" + str(i+1) + \"/\" + str(chunks) + \" encoded\")\n",
        "        else:\n",
        "          print(\"encoding failed, retrying chunk \" + str(i+1))\n",
        "    return images, binaries\n",
        "  \n",
        "  def decodeString(self, images):\n",
        "    codes = []\n",
        "    for image_ in images:\n",
        "      image = np.reshape(image_, [1, 32, 32, 1])\n",
        "      code = np.reshape(self.decode(image), [self.message_size])\n",
        "      codes.extend(code)\n",
        "      \n",
        "    codes = [int((i+1)/2) for i in codes]\n",
        "    return frombits(codes)\n",
        "    \n",
        "    \n",
        "  def decode(self, image):\n",
        "    sess = self.session\n",
        "    x = tf.placeholder(tf.float32, shape=(None, 32, 32, 1))\n",
        "    \n",
        "    return sess.run(self.decoder(x, False, True), {x: image})\n",
        "    \n",
        "  def save(self, filename):\n",
        "    sess = self.session\n",
        "    saver = tf.train.Saver()\n",
        "    saver.save(sess, filename)\n",
        "    \n",
        "  def load(self, filename):\n",
        "    sess = self.session\n",
        "    saver = tf.train.Saver()\n",
        "    saver.restore(sess, tf.train.latest_checkpoint(filename))\n",
        "    \n",
        "  def generator(self, message, noise, isTrain=True, reuse=False):\n",
        "      with tf.variable_scope('generator', reuse=reuse):\n",
        "          x = tf.reshape(tf.contrib.layers.flatten(tf.concat([tf.cast(message, tf.float32), tf.cast(noise, tf.float32)],1)), [-1, 1, 1, self.message_size + self.message_size*self.noise_multiplier])\n",
        "          \n",
        "          conv1 = tf.layers.conv2d_transpose(x, 512, [4, 4], strides=(2, 2), padding='valid')\n",
        "          lrelu1 = tf.nn.leaky_relu(tf.layers.batch_normalization(conv1, training=isTrain))\n",
        "\n",
        "          conv2 = tf.layers.conv2d_transpose(lrelu1, 256, [4, 4], strides=(2, 2), padding='same')\n",
        "          lrelu2 = tf.nn.leaky_relu(tf.layers.batch_normalization(conv2, training=isTrain))\n",
        "\n",
        "          conv3 = tf.layers.conv2d_transpose(lrelu2, 128, [4, 4], strides=(2, 2), padding='same')\n",
        "          lrelu3 = tf.nn.leaky_relu(tf.layers.batch_normalization(conv3, training=isTrain))\n",
        "\n",
        "          conv4 = tf.layers.conv2d_transpose(lrelu3, 1, [4, 4], strides=(2, 2), padding='same')\n",
        "          out = tf.nn.tanh(conv4)\n",
        "          \n",
        "          return binarize(out), out\n",
        "    \n",
        "  def decoder(self, input_batch, isTrain=True, reuse=False):\n",
        "      with tf.variable_scope('decoder', reuse=reuse):\n",
        "          conv1 = tf.layers.conv2d(input_batch, 128, [4, 4], strides=(2, 2), padding='same')\n",
        "          lrelu1 = tf.nn.leaky_relu(tf.layers.batch_normalization(conv1, training=isTrain))\n",
        "\n",
        "          conv2 = tf.layers.conv2d(lrelu1, 256, [4, 4], strides=(2, 2), padding='same')\n",
        "          lrelu2 = tf.nn.leaky_relu(tf.layers.batch_normalization(conv2, training=isTrain))\n",
        "\n",
        "          conv3 = tf.layers.conv2d(lrelu2, 512, [4, 4], strides=(2, 2), padding='same')\n",
        "          lrelu3 = tf.nn.leaky_relu(tf.layers.batch_normalization(conv3, training=isTrain))\n",
        "\n",
        "          dense1 = tf.layers.dense(tf.contrib.layers.flatten(lrelu3), self.message_size, activation=tf.nn.leaky_relu)    \n",
        "          out = tf.nn.tanh(dense1)\n",
        "          return binarize(tf.reshape(out, shape=[-1, self.message_size, 1, 1]))\n",
        "    \n",
        "  def discriminator(self, x, isTrain=True, reuse=False):\n",
        "      with tf.variable_scope('discriminator', reuse=reuse):\n",
        "          conv1 = tf.layers.conv2d(x, 128, [4, 4], strides=(2, 2), padding='same')\n",
        "          lrelu1 = tf.nn.leaky_relu(tf.layers.batch_normalization(conv1, training=isTrain))\n",
        "\n",
        "          conv2 = tf.layers.conv2d(lrelu1, 256, [4, 4], strides=(2, 2), padding='same')\n",
        "          lrelu2 = tf.nn.leaky_relu(tf.layers.batch_normalization(conv2, training=isTrain))\n",
        "\n",
        "          conv3 = tf.layers.conv2d(lrelu2, 512, [4, 4], strides=(2, 2), padding='same')\n",
        "          lrelu3 = tf.nn.leaky_relu(tf.layers.batch_normalization(conv3, training=isTrain))\n",
        "\n",
        "          conv4 = tf.layers.conv2d(lrelu3, 1, [4, 4], strides=(1, 1), padding='valid')\n",
        "          out = tf.nn.sigmoid(conv4)\n",
        "\n",
        "          return out, conv4\n",
        "    \n",
        "def binarize(x):\n",
        "    g = tf.get_default_graph()\n",
        "    with g.gradient_override_map({\"Sign\": \"Identity\"}):\n",
        "        return tf.sign(x)\n",
        "      \n",
        "def tobits(s):\n",
        "    result = []\n",
        "    for c in s:\n",
        "        bits = bin(ord(c))[2:]\n",
        "        bits = '00000000'[len(bits):] + bits\n",
        "        result.extend([int(b) for b in bits])\n",
        "    return result\n",
        "\n",
        "def frombits(bits):\n",
        "    chars = []\n",
        "    for b in range(len(bits) // 8):\n",
        "        byte = bits[b*8:(b+1)*8]\n",
        "        chars.append(chr(int(''.join([str(bit) for bit in byte]), 2)))\n",
        "    return ''.join(chars)"
      ],
      "execution_count": 0,
      "outputs": []
    },
    {
      "metadata": {
        "id": "2wU6dkvlF-2s",
        "colab_type": "code",
        "outputId": "3a3508cb-14bb-4485-8f61-36a5f7691603",
        "colab": {
          "base_uri": "https://localhost:8080/",
          "height": 112
        }
      },
      "cell_type": "code",
      "source": [
        "#colab\n",
        "# google-drive-ocamlfuseのインストール\n",
        "# https://github.com/astrada/google-drive-ocamlfuse\n",
        "!apt-get install -y -qq software-properties-common python-software-properties module-init-tools\n",
        "!add-apt-repository -y ppa:alessandro-strada/ppa 2>&1 > /dev/null\n",
        "!apt-get update -qq 2>&1 > /dev/null\n",
        "!apt-get -y install -qq google-drive-ocamlfuse fuse\n",
        "\n",
        "# Colab用のAuth token作成\n",
        "from google.colab import auth\n",
        "auth.authenticate_user()\n",
        "\n",
        "# Drive FUSE library用のcredential生成\n",
        "from oauth2client.client import GoogleCredentials\n",
        "creds = GoogleCredentials.get_application_default()\n",
        "import getpass\n",
        "!google-drive-ocamlfuse -headless -id={creds.client_id} -secret={creds.client_secret} < /dev/null 2>&1 | grep URL\n",
        "vcode = getpass.getpass()\n",
        "!echo {vcode} | google-drive-ocamlfuse -headless -id={creds.client_id} -secret={creds.client_secret}\n",
        "\n",
        "!mkdir -p drive\n",
        "!google-drive-ocamlfuse drive"
      ],
      "execution_count": 0,
      "outputs": [
        {
          "output_type": "stream",
          "text": [
            "Please, open the following URL in a web browser: https://accounts.google.com/o/oauth2/auth?client_id=32555940559.apps.googleusercontent.com&redirect_uri=urn%3Aietf%3Awg%3Aoauth%3A2.0%3Aoob&scope=https%3A%2F%2Fwww.googleapis.com%2Fauth%2Fdrive&response_type=code&access_type=offline&approval_prompt=force\r\n",
            "··········\n",
            "Please, open the following URL in a web browser: https://accounts.google.com/o/oauth2/auth?client_id=32555940559.apps.googleusercontent.com&redirect_uri=urn%3Aietf%3Awg%3Aoauth%3A2.0%3Aoob&scope=https%3A%2F%2Fwww.googleapis.com%2Fauth%2Fdrive&response_type=code&access_type=offline&approval_prompt=force\n",
            "Please enter the verification code: Access token retrieved correctly.\n"
          ],
          "name": "stdout"
        }
      ]
    },
    {
      "metadata": {
        "id": "5jZOzNGChKZX",
        "colab_type": "code",
        "outputId": "6b1d7e10-3d57-449c-ea2a-7c8c692b1074",
        "colab": {
          "base_uri": "https://localhost:8080/",
          "height": 1176
        }
      },
      "cell_type": "code",
      "source": [
        "# ! mkdir -p drive/saved_models/GanCoder/emnist-32x32-48/\n",
        "# tf.reset_default_graph()\n",
        "# session = tf.Session()\n",
        "# encoder = Encoder(session, message_size=48, batch_size=256)\n",
        "for i in range(4):\n",
        "  encoder.train(train_data, epochs = 5)\n",
        "  encoder.save(\"drive/saved_models/GanCoder/emnist-32x32-48/model\")"
      ],
      "execution_count": 0,
      "outputs": [
        {
          "output_type": "stream",
          "text": [
            "\n",
            "  0%|          | 0/5 [00:00<?, ?it/s]\u001b[A"
          ],
          "name": "stderr"
        },
        {
          "output_type": "error",
          "ename": "KeyboardInterrupt",
          "evalue": "ignored",
          "traceback": [
            "\u001b[0;31m---------------------------------------------------------------------------\u001b[0m",
            "\u001b[0;31mKeyboardInterrupt\u001b[0m                         Traceback (most recent call last)",
            "\u001b[0;32m<ipython-input-10-24a58fcaff57>\u001b[0m in \u001b[0;36m<module>\u001b[0;34m()\u001b[0m\n\u001b[1;32m      1\u001b[0m \u001b[0;32mfor\u001b[0m \u001b[0mi\u001b[0m \u001b[0;32min\u001b[0m \u001b[0mrange\u001b[0m\u001b[0;34m(\u001b[0m\u001b[0;36m4\u001b[0m\u001b[0;34m)\u001b[0m\u001b[0;34m:\u001b[0m\u001b[0;34m\u001b[0m\u001b[0m\n\u001b[0;32m----> 2\u001b[0;31m   \u001b[0mencoder\u001b[0m\u001b[0;34m.\u001b[0m\u001b[0mtrain\u001b[0m\u001b[0;34m(\u001b[0m\u001b[0mtrain_data\u001b[0m\u001b[0;34m,\u001b[0m \u001b[0mepochs\u001b[0m \u001b[0;34m=\u001b[0m \u001b[0;36m5\u001b[0m\u001b[0;34m)\u001b[0m\u001b[0;34m\u001b[0m\u001b[0m\n\u001b[0m\u001b[1;32m      3\u001b[0m   \u001b[0mencoder\u001b[0m\u001b[0;34m.\u001b[0m\u001b[0msave\u001b[0m\u001b[0;34m(\u001b[0m\u001b[0;34m\"drive/saved_models/GanCoder/emnist-32x32-48/model\"\u001b[0m\u001b[0;34m)\u001b[0m\u001b[0;34m\u001b[0m\u001b[0m\n",
            "\u001b[0;32m<ipython-input-2-1a984a062579>\u001b[0m in \u001b[0;36mtrain\u001b[0;34m(self, train_data, epochs)\u001b[0m\n\u001b[1;32m    102\u001b[0m           \u001b[0mmessage_\u001b[0m \u001b[0;34m=\u001b[0m \u001b[0;34m(\u001b[0m\u001b[0mnp\u001b[0m\u001b[0;34m.\u001b[0m\u001b[0mrandom\u001b[0m\u001b[0;34m.\u001b[0m\u001b[0mrandint\u001b[0m\u001b[0;34m(\u001b[0m\u001b[0;36m2\u001b[0m\u001b[0;34m,\u001b[0m \u001b[0msize\u001b[0m\u001b[0;34m=\u001b[0m\u001b[0;34m[\u001b[0m\u001b[0mself\u001b[0m\u001b[0;34m.\u001b[0m\u001b[0mbatch_size\u001b[0m\u001b[0;34m,\u001b[0m \u001b[0mself\u001b[0m\u001b[0;34m.\u001b[0m\u001b[0mmessage_size\u001b[0m\u001b[0;34m,\u001b[0m \u001b[0;36m1\u001b[0m\u001b[0;34m,\u001b[0m \u001b[0;36m1\u001b[0m\u001b[0;34m]\u001b[0m\u001b[0;34m)\u001b[0m \u001b[0;34m-\u001b[0m \u001b[0;36m0.5\u001b[0m\u001b[0;34m)\u001b[0m \u001b[0;34m*\u001b[0m \u001b[0;36m2\u001b[0m\u001b[0;34m\u001b[0m\u001b[0m\n\u001b[1;32m    103\u001b[0m           \u001b[0mz_\u001b[0m \u001b[0;34m=\u001b[0m \u001b[0mnp\u001b[0m\u001b[0;34m.\u001b[0m\u001b[0mrandom\u001b[0m\u001b[0;34m.\u001b[0m\u001b[0mnormal\u001b[0m\u001b[0;34m(\u001b[0m\u001b[0;36m0\u001b[0m\u001b[0;34m,\u001b[0m \u001b[0;36m1\u001b[0m\u001b[0;34m,\u001b[0m \u001b[0;34m(\u001b[0m\u001b[0mself\u001b[0m\u001b[0;34m.\u001b[0m\u001b[0mbatch_size\u001b[0m\u001b[0;34m,\u001b[0m \u001b[0mself\u001b[0m\u001b[0;34m.\u001b[0m\u001b[0mmessage_size\u001b[0m\u001b[0;34m*\u001b[0m\u001b[0mself\u001b[0m\u001b[0;34m.\u001b[0m\u001b[0mnoise_multiplier\u001b[0m\u001b[0;34m,\u001b[0m \u001b[0;36m1\u001b[0m\u001b[0;34m,\u001b[0m \u001b[0;36m1\u001b[0m\u001b[0;34m)\u001b[0m\u001b[0;34m)\u001b[0m\u001b[0;34m\u001b[0m\u001b[0m\n\u001b[0;32m--> 104\u001b[0;31m           \u001b[0msess\u001b[0m\u001b[0;34m.\u001b[0m\u001b[0mrun\u001b[0m\u001b[0;34m(\u001b[0m\u001b[0;34m[\u001b[0m\u001b[0mself\u001b[0m\u001b[0;34m.\u001b[0m\u001b[0mDEC_optim\u001b[0m\u001b[0;34m]\u001b[0m\u001b[0;34m,\u001b[0m \u001b[0;34m{\u001b[0m\u001b[0mself\u001b[0m\u001b[0;34m.\u001b[0m\u001b[0mx\u001b[0m\u001b[0;34m:\u001b[0m \u001b[0mx_\u001b[0m\u001b[0;34m,\u001b[0m \u001b[0mself\u001b[0m\u001b[0;34m.\u001b[0m\u001b[0mmessage\u001b[0m\u001b[0;34m:\u001b[0m \u001b[0mmessage_\u001b[0m\u001b[0;34m,\u001b[0m \u001b[0mself\u001b[0m\u001b[0;34m.\u001b[0m\u001b[0mz\u001b[0m\u001b[0;34m:\u001b[0m \u001b[0mz_\u001b[0m\u001b[0;34m,\u001b[0m \u001b[0mself\u001b[0m\u001b[0;34m.\u001b[0m\u001b[0misTrain\u001b[0m\u001b[0;34m:\u001b[0m \u001b[0;32mTrue\u001b[0m\u001b[0;34m}\u001b[0m\u001b[0;34m)\u001b[0m\u001b[0;34m\u001b[0m\u001b[0m\n\u001b[0m\u001b[1;32m    105\u001b[0m \u001b[0;34m\u001b[0m\u001b[0m\n\u001b[1;32m    106\u001b[0m   \u001b[0;32mdef\u001b[0m \u001b[0mencode\u001b[0m\u001b[0;34m(\u001b[0m\u001b[0mself\u001b[0m\u001b[0;34m,\u001b[0m \u001b[0mmessage\u001b[0m\u001b[0;34m,\u001b[0m \u001b[0mtries\u001b[0m\u001b[0;34m=\u001b[0m\u001b[0;36m20\u001b[0m\u001b[0;34m)\u001b[0m\u001b[0;34m:\u001b[0m\u001b[0;34m\u001b[0m\u001b[0m\n",
            "\u001b[0;32m/usr/local/lib/python3.6/dist-packages/tensorflow/python/client/session.py\u001b[0m in \u001b[0;36mrun\u001b[0;34m(self, fetches, feed_dict, options, run_metadata)\u001b[0m\n\u001b[1;32m    898\u001b[0m     \u001b[0;32mtry\u001b[0m\u001b[0;34m:\u001b[0m\u001b[0;34m\u001b[0m\u001b[0m\n\u001b[1;32m    899\u001b[0m       result = self._run(None, fetches, feed_dict, options_ptr,\n\u001b[0;32m--> 900\u001b[0;31m                          run_metadata_ptr)\n\u001b[0m\u001b[1;32m    901\u001b[0m       \u001b[0;32mif\u001b[0m \u001b[0mrun_metadata\u001b[0m\u001b[0;34m:\u001b[0m\u001b[0;34m\u001b[0m\u001b[0m\n\u001b[1;32m    902\u001b[0m         \u001b[0mproto_data\u001b[0m \u001b[0;34m=\u001b[0m \u001b[0mtf_session\u001b[0m\u001b[0;34m.\u001b[0m\u001b[0mTF_GetBuffer\u001b[0m\u001b[0;34m(\u001b[0m\u001b[0mrun_metadata_ptr\u001b[0m\u001b[0;34m)\u001b[0m\u001b[0;34m\u001b[0m\u001b[0m\n",
            "\u001b[0;32m/usr/local/lib/python3.6/dist-packages/tensorflow/python/client/session.py\u001b[0m in \u001b[0;36m_run\u001b[0;34m(self, handle, fetches, feed_dict, options, run_metadata)\u001b[0m\n\u001b[1;32m   1133\u001b[0m     \u001b[0;32mif\u001b[0m \u001b[0mfinal_fetches\u001b[0m \u001b[0;32mor\u001b[0m \u001b[0mfinal_targets\u001b[0m \u001b[0;32mor\u001b[0m \u001b[0;34m(\u001b[0m\u001b[0mhandle\u001b[0m \u001b[0;32mand\u001b[0m \u001b[0mfeed_dict_tensor\u001b[0m\u001b[0;34m)\u001b[0m\u001b[0;34m:\u001b[0m\u001b[0;34m\u001b[0m\u001b[0m\n\u001b[1;32m   1134\u001b[0m       results = self._do_run(handle, final_targets, final_fetches,\n\u001b[0;32m-> 1135\u001b[0;31m                              feed_dict_tensor, options, run_metadata)\n\u001b[0m\u001b[1;32m   1136\u001b[0m     \u001b[0;32melse\u001b[0m\u001b[0;34m:\u001b[0m\u001b[0;34m\u001b[0m\u001b[0m\n\u001b[1;32m   1137\u001b[0m       \u001b[0mresults\u001b[0m \u001b[0;34m=\u001b[0m \u001b[0;34m[\u001b[0m\u001b[0;34m]\u001b[0m\u001b[0;34m\u001b[0m\u001b[0m\n",
            "\u001b[0;32m/usr/local/lib/python3.6/dist-packages/tensorflow/python/client/session.py\u001b[0m in \u001b[0;36m_do_run\u001b[0;34m(self, handle, target_list, fetch_list, feed_dict, options, run_metadata)\u001b[0m\n\u001b[1;32m   1314\u001b[0m     \u001b[0;32mif\u001b[0m \u001b[0mhandle\u001b[0m \u001b[0;32mis\u001b[0m \u001b[0;32mNone\u001b[0m\u001b[0;34m:\u001b[0m\u001b[0;34m\u001b[0m\u001b[0m\n\u001b[1;32m   1315\u001b[0m       return self._do_call(_run_fn, feeds, fetches, targets, options,\n\u001b[0;32m-> 1316\u001b[0;31m                            run_metadata)\n\u001b[0m\u001b[1;32m   1317\u001b[0m     \u001b[0;32melse\u001b[0m\u001b[0;34m:\u001b[0m\u001b[0;34m\u001b[0m\u001b[0m\n\u001b[1;32m   1318\u001b[0m       \u001b[0;32mreturn\u001b[0m \u001b[0mself\u001b[0m\u001b[0;34m.\u001b[0m\u001b[0m_do_call\u001b[0m\u001b[0;34m(\u001b[0m\u001b[0m_prun_fn\u001b[0m\u001b[0;34m,\u001b[0m \u001b[0mhandle\u001b[0m\u001b[0;34m,\u001b[0m \u001b[0mfeeds\u001b[0m\u001b[0;34m,\u001b[0m \u001b[0mfetches\u001b[0m\u001b[0;34m)\u001b[0m\u001b[0;34m\u001b[0m\u001b[0m\n",
            "\u001b[0;32m/usr/local/lib/python3.6/dist-packages/tensorflow/python/client/session.py\u001b[0m in \u001b[0;36m_do_call\u001b[0;34m(self, fn, *args)\u001b[0m\n\u001b[1;32m   1320\u001b[0m   \u001b[0;32mdef\u001b[0m \u001b[0m_do_call\u001b[0m\u001b[0;34m(\u001b[0m\u001b[0mself\u001b[0m\u001b[0;34m,\u001b[0m \u001b[0mfn\u001b[0m\u001b[0;34m,\u001b[0m \u001b[0;34m*\u001b[0m\u001b[0margs\u001b[0m\u001b[0;34m)\u001b[0m\u001b[0;34m:\u001b[0m\u001b[0;34m\u001b[0m\u001b[0m\n\u001b[1;32m   1321\u001b[0m     \u001b[0;32mtry\u001b[0m\u001b[0;34m:\u001b[0m\u001b[0;34m\u001b[0m\u001b[0m\n\u001b[0;32m-> 1322\u001b[0;31m       \u001b[0;32mreturn\u001b[0m \u001b[0mfn\u001b[0m\u001b[0;34m(\u001b[0m\u001b[0;34m*\u001b[0m\u001b[0margs\u001b[0m\u001b[0;34m)\u001b[0m\u001b[0;34m\u001b[0m\u001b[0m\n\u001b[0m\u001b[1;32m   1323\u001b[0m     \u001b[0;32mexcept\u001b[0m \u001b[0merrors\u001b[0m\u001b[0;34m.\u001b[0m\u001b[0mOpError\u001b[0m \u001b[0;32mas\u001b[0m \u001b[0me\u001b[0m\u001b[0;34m:\u001b[0m\u001b[0;34m\u001b[0m\u001b[0m\n\u001b[1;32m   1324\u001b[0m       \u001b[0mmessage\u001b[0m \u001b[0;34m=\u001b[0m \u001b[0mcompat\u001b[0m\u001b[0;34m.\u001b[0m\u001b[0mas_text\u001b[0m\u001b[0;34m(\u001b[0m\u001b[0me\u001b[0m\u001b[0;34m.\u001b[0m\u001b[0mmessage\u001b[0m\u001b[0;34m)\u001b[0m\u001b[0;34m\u001b[0m\u001b[0m\n",
            "\u001b[0;32m/usr/local/lib/python3.6/dist-packages/tensorflow/python/client/session.py\u001b[0m in \u001b[0;36m_run_fn\u001b[0;34m(feed_dict, fetch_list, target_list, options, run_metadata)\u001b[0m\n\u001b[1;32m   1305\u001b[0m       \u001b[0mself\u001b[0m\u001b[0;34m.\u001b[0m\u001b[0m_extend_graph\u001b[0m\u001b[0;34m(\u001b[0m\u001b[0;34m)\u001b[0m\u001b[0;34m\u001b[0m\u001b[0m\n\u001b[1;32m   1306\u001b[0m       return self._call_tf_sessionrun(\n\u001b[0;32m-> 1307\u001b[0;31m           options, feed_dict, fetch_list, target_list, run_metadata)\n\u001b[0m\u001b[1;32m   1308\u001b[0m \u001b[0;34m\u001b[0m\u001b[0m\n\u001b[1;32m   1309\u001b[0m     \u001b[0;32mdef\u001b[0m \u001b[0m_prun_fn\u001b[0m\u001b[0;34m(\u001b[0m\u001b[0mhandle\u001b[0m\u001b[0;34m,\u001b[0m \u001b[0mfeed_dict\u001b[0m\u001b[0;34m,\u001b[0m \u001b[0mfetch_list\u001b[0m\u001b[0;34m)\u001b[0m\u001b[0;34m:\u001b[0m\u001b[0;34m\u001b[0m\u001b[0m\n",
            "\u001b[0;32m/usr/local/lib/python3.6/dist-packages/tensorflow/python/client/session.py\u001b[0m in \u001b[0;36m_call_tf_sessionrun\u001b[0;34m(self, options, feed_dict, fetch_list, target_list, run_metadata)\u001b[0m\n\u001b[1;32m   1407\u001b[0m       return tf_session.TF_SessionRun_wrapper(\n\u001b[1;32m   1408\u001b[0m           \u001b[0mself\u001b[0m\u001b[0;34m.\u001b[0m\u001b[0m_session\u001b[0m\u001b[0;34m,\u001b[0m \u001b[0moptions\u001b[0m\u001b[0;34m,\u001b[0m \u001b[0mfeed_dict\u001b[0m\u001b[0;34m,\u001b[0m \u001b[0mfetch_list\u001b[0m\u001b[0;34m,\u001b[0m \u001b[0mtarget_list\u001b[0m\u001b[0;34m,\u001b[0m\u001b[0;34m\u001b[0m\u001b[0m\n\u001b[0;32m-> 1409\u001b[0;31m           run_metadata)\n\u001b[0m\u001b[1;32m   1410\u001b[0m     \u001b[0;32melse\u001b[0m\u001b[0;34m:\u001b[0m\u001b[0;34m\u001b[0m\u001b[0m\n\u001b[1;32m   1411\u001b[0m       \u001b[0;32mwith\u001b[0m \u001b[0merrors\u001b[0m\u001b[0;34m.\u001b[0m\u001b[0mraise_exception_on_not_ok_status\u001b[0m\u001b[0;34m(\u001b[0m\u001b[0;34m)\u001b[0m \u001b[0;32mas\u001b[0m \u001b[0mstatus\u001b[0m\u001b[0;34m:\u001b[0m\u001b[0;34m\u001b[0m\u001b[0m\n",
            "\u001b[0;31mKeyboardInterrupt\u001b[0m: "
          ]
        }
      ]
    },
    {
      "metadata": {
        "id": "GIH9VfsDDqFM",
        "colab_type": "code",
        "outputId": "51e5e8d6-c3ea-4b7c-e307-33ac8d92ce52",
        "colab": {
          "base_uri": "https://localhost:8080/",
          "height": 36
        }
      },
      "cell_type": "code",
      "source": [
        "tf.reset_default_graph()\n",
        "session = tf.Session()\n",
        "encoder = Encoder(session, message_size=32, noise_multiplier=1)\n",
        "encoder.load('drive/saved_models/GanCoder/emnist-32x32-32')"
      ],
      "execution_count": 0,
      "outputs": [
        {
          "output_type": "stream",
          "text": [
            "INFO:tensorflow:Restoring parameters from drive/saved_models/GanCoder/emnist-32x32-32/model\n"
          ],
          "name": "stdout"
        }
      ]
    },
    {
      "metadata": {
        "id": "xmdNGb6Qjr-s",
        "colab_type": "code",
        "outputId": "d7687dea-3f3c-48f6-b71e-6ba88faf8479",
        "colab": {
          "base_uri": "https://localhost:8080/",
          "height": 308
        }
      },
      "cell_type": "code",
      "source": [
        "imgs, bins = encoder.encodeString(\"www.google.commm\", tries=1000)\n",
        "print(encoder.decodeString(bins))\n",
        "\n",
        "show_images(imgs)\n"
      ],
      "execution_count": 0,
      "outputs": [
        {
          "output_type": "stream",
          "text": [
            "chunk 1/4 encoded\n",
            "chunk 2/4 encoded\n",
            "chunk 3/4 encoded\n",
            "chunk 4/4 encoded\n",
            "www.google.commm\n"
          ],
          "name": "stdout"
        },
        {
          "output_type": "error",
          "ename": "NameError",
          "evalue": "ignored",
          "traceback": [
            "\u001b[0;31m---------------------------------------------------------------------------\u001b[0m",
            "\u001b[0;31mNameError\u001b[0m                                 Traceback (most recent call last)",
            "\u001b[0;32m<ipython-input-23-56b6755683d9>\u001b[0m in \u001b[0;36m<module>\u001b[0;34m()\u001b[0m\n\u001b[1;32m      2\u001b[0m \u001b[0mprint\u001b[0m\u001b[0;34m(\u001b[0m\u001b[0mencoder\u001b[0m\u001b[0;34m.\u001b[0m\u001b[0mdecodeString\u001b[0m\u001b[0;34m(\u001b[0m\u001b[0mbins\u001b[0m\u001b[0;34m)\u001b[0m\u001b[0;34m)\u001b[0m\u001b[0;34m\u001b[0m\u001b[0m\n\u001b[1;32m      3\u001b[0m \u001b[0;34m\u001b[0m\u001b[0m\n\u001b[0;32m----> 4\u001b[0;31m \u001b[0mshow_images\u001b[0m\u001b[0;34m(\u001b[0m\u001b[0mimgs\u001b[0m\u001b[0;34m)\u001b[0m\u001b[0;34m\u001b[0m\u001b[0m\n\u001b[0m",
            "\u001b[0;31mNameError\u001b[0m: name 'show_images' is not defined"
          ]
        }
      ]
    },
    {
      "metadata": {
        "id": "ZSOZNN1kJBtf",
        "colab_type": "code",
        "outputId": "88dd70e0-7c0a-4a6b-880f-506477adccb7",
        "colab": {
          "base_uri": "https://localhost:8080/",
          "height": 129
        }
      },
      "cell_type": "code",
      "source": [
        "fig = plt.figure(figsize=(70, 50))  # width, height in inches\n",
        "\n",
        "for i in range(len(imgs)):\n",
        "    sub = fig.add_subplot(64, 1, i + 1)\n",
        "    sub.imshow(imgs[i], interpolation='nearest')"
      ],
      "execution_count": 0,
      "outputs": [
        {
          "output_type": "display_data",
          "data": {
            "image/png": "[encoded data removed]",
            "text/plain": [
              "<matplotlib.figure.Figure at 0x7f1230421400>"
            ]
          },
          "metadata": {
            "tags": []
          }
        }
      ]
    },
    {
      "metadata": {
        "id": "aRZtkED4bCpF",
        "colab_type": "code",
        "outputId": "0d35d256-fd43-4fa0-b6b6-9c931361f406",
        "colab": {
          "base_uri": "https://localhost:8080/",
          "height": 366
        }
      },
      "cell_type": "code",
      "source": [
        "import numpy as np\n",
        "import matplotlib.pyplot as plt\n",
        "m_size = 32\n",
        "message = (np.random.randint(2, size=[1, m_size, 1, 1]) - 0.5) * 2\n",
        "imgs, bins, lossless = encoder.encode(message, tries=10000)\n",
        "plt.imshow(np.reshape(imgs[0], [32, 32]))\n",
        "print(lossless[0])"
      ],
      "execution_count": 0,
      "outputs": [
        {
          "output_type": "stream",
          "text": [
            "True\n"
          ],
          "name": "stdout"
        },
        {
          "output_type": "display_data",
          "data": {
            "image/png": "[encoded data removed]",
            "text/plain": [
              "<matplotlib.figure.Figure at 0x7f515fd60400>"
            ]
          },
          "metadata": {
            "tags": []
          }
        }
      ]
    },
    {
      "metadata": {
        "id": "BtC-gU1AlHSG",
        "colab_type": "code",
        "outputId": "df736325-f6f7-4a5f-96ae-d67699434781",
        "colab": {
          "base_uri": "https://localhost:8080/",
          "height": 2018
        }
      },
      "cell_type": "code",
      "source": [
        "! wget -nc http://www.itl.nist.gov/iaui/vip/cs_links/EMNIST/gzip.zip\n",
        "! unzip -o gzip.zip\n",
        "! rm gzip/train-images-idx3-ubyte.gz gzip/train-labels-idx1-ubyte.gz\n",
        "! mv gzip/emnist-balanced-train-images-idx3-ubyte.gz gzip/train-images-idx3-ubyte.gz\n",
        "! mv gzip/emnist-balanced-train-labels-idx1-ubyte.gz gzip/train-labels-idx1-ubyte.gz\n",
        "! ls -la gzip\n",
        "\n",
        "\n",
        "import numpy as np\n",
        "from tensorflow.examples.tutorials.mnist import input_data\n",
        "\n",
        "train_data = input_data.read_data_sets('mnist').train.images\n",
        "train_data = np.reshape(train_data, [-1, 28, 28, 1])\n",
        "\n",
        "input_data = tf.placeholder(\"float\", [None, 28, 28, 1])\n",
        "resize = tf.image.resize_images(\n",
        "    input_data,\n",
        "    [32, 32]\n",
        ")\n",
        "\n",
        "with tf.Session() as sess:\n",
        "    init = tf.global_variables_initializer()\n",
        "    sess.run(init)\n",
        "    \n",
        "    train_data =  sess.run(resize, feed_dict={input_data: train_data})\n",
        "    train_data = (train_data - 0.5) * 2\n"
      ],
      "execution_count": 0,
      "outputs": [
        {
          "output_type": "stream",
          "text": [
            "--2018-06-03 18:04:53--  http://www.itl.nist.gov/iaui/vip/cs_links/EMNIST/gzip.zip\n",
            "Resolving www.itl.nist.gov (www.itl.nist.gov)... 132.163.4.36, 2610:20:6b01:4::36\n",
            "Connecting to www.itl.nist.gov (www.itl.nist.gov)|132.163.4.36|:80... connected.\n",
            "HTTP request sent, awaiting response... 301 Moved Permanently\n",
            "Location: https://www.itl.nist.gov/iaui/vip/cs_links/EMNIST/gzip.zip [following]\n",
            "--2018-06-03 18:04:54--  https://www.itl.nist.gov/iaui/vip/cs_links/EMNIST/gzip.zip\n",
            "Connecting to www.itl.nist.gov (www.itl.nist.gov)|132.163.4.36|:443... connected.\n",
            "HTTP request sent, awaiting response... 200 OK\n",
            "Length: 561753746 (536M) [application/zip]\n",
            "Saving to: ‘gzip.zip’\n",
            "\n",
            "gzip.zip            100%[===================>] 535.73M  67.7MB/s    in 7.7s    \n",
            "\n",
            "2018-06-03 18:05:02 (69.2 MB/s) - ‘gzip.zip’ saved [561753746/561753746]\n",
            "\n",
            "Archive:  gzip.zip\n",
            "  inflating: gzip/emnist-balanced-mapping.txt  \n",
            "  inflating: gzip/emnist-balanced-test-images-idx3-ubyte.gz  \n",
            " extracting: gzip/emnist-balanced-test-labels-idx1-ubyte.gz  \n",
            "  inflating: gzip/emnist-balanced-train-images-idx3-ubyte.gz  \n",
            "  inflating: gzip/emnist-balanced-train-labels-idx1-ubyte.gz  \n",
            "  inflating: gzip/emnist-byclass-mapping.txt  \n",
            "  inflating: gzip/emnist-byclass-test-images-idx3-ubyte.gz  \n",
            "  inflating: gzip/emnist-byclass-test-labels-idx1-ubyte.gz  \n",
            "  inflating: gzip/emnist-byclass-train-images-idx3-ubyte.gz  \n",
            "  inflating: gzip/emnist-byclass-train-labels-idx1-ubyte.gz  \n",
            "  inflating: gzip/emnist-bymerge-mapping.txt  \n",
            "  inflating: gzip/emnist-bymerge-test-images-idx3-ubyte.gz  \n",
            "  inflating: gzip/emnist-bymerge-test-labels-idx1-ubyte.gz  \n",
            "  inflating: gzip/emnist-bymerge-train-images-idx3-ubyte.gz  \n",
            "  inflating: gzip/emnist-bymerge-train-labels-idx1-ubyte.gz  \n",
            "  inflating: gzip/emnist-digits-mapping.txt  \n",
            "  inflating: gzip/emnist-digits-test-images-idx3-ubyte.gz  \n",
            "  inflating: gzip/emnist-digits-test-labels-idx1-ubyte.gz  \n",
            "  inflating: gzip/emnist-digits-train-images-idx3-ubyte.gz  \n",
            "  inflating: gzip/emnist-digits-train-labels-idx1-ubyte.gz  \n",
            "  inflating: gzip/emnist-letters-mapping.txt  \n",
            "  inflating: gzip/emnist-letters-test-images-idx3-ubyte.gz  \n",
            " extracting: gzip/emnist-letters-test-labels-idx1-ubyte.gz  \n",
            "  inflating: gzip/emnist-letters-train-images-idx3-ubyte.gz  \n",
            "  inflating: gzip/emnist-letters-train-labels-idx1-ubyte.gz  \n",
            "  inflating: gzip/emnist-mnist-mapping.txt  \n",
            "  inflating: gzip/emnist-mnist-test-images-idx3-ubyte.gz  \n",
            " extracting: gzip/emnist-mnist-test-labels-idx1-ubyte.gz  \n",
            "  inflating: gzip/emnist-mnist-train-images-idx3-ubyte.gz  \n",
            "  inflating: gzip/emnist-mnist-train-labels-idx1-ubyte.gz  \n",
            "rm: cannot remove 'gzip/train-images-idx3-ubyte.gz': No such file or directory\n",
            "rm: cannot remove 'gzip/train-labels-idx1-ubyte.gz': No such file or directory\n",
            "total 548500\n",
            "drwxr-xr-x 2 root root      4096 Jun  3 18:05 .\n",
            "drwxr-xr-x 1 root root      4096 Jun  3 18:05 ..\n",
            "-rw-r--r-- 1 root root       328 Feb 18  2017 emnist-balanced-mapping.txt\n",
            "-rw-r--r-- 1 root root   4714707 Feb 18  2017 emnist-balanced-test-images-idx3-ubyte.gz\n",
            "-rw-r--r-- 1 root root     13504 Feb 18  2017 emnist-balanced-test-labels-idx1-ubyte.gz\n",
            "-rw-r--r-- 1 root root       447 Feb 18  2017 emnist-byclass-mapping.txt\n",
            "-rw-r--r-- 1 root root  28908322 Feb 18  2017 emnist-byclass-test-images-idx3-ubyte.gz\n",
            "-rw-r--r-- 1 root root     81839 Feb 18  2017 emnist-byclass-test-labels-idx1-ubyte.gz\n",
            "-rw-r--r-- 1 root root 173367313 Feb 18  2017 emnist-byclass-train-images-idx3-ubyte.gz\n",
            "-rw-r--r-- 1 root root    491603 Feb 18  2017 emnist-byclass-train-labels-idx1-ubyte.gz\n",
            "-rw-r--r-- 1 root root       328 Feb 18  2017 emnist-bymerge-mapping.txt\n",
            "-rw-r--r-- 1 root root  28905295 Feb 18  2017 emnist-bymerge-test-images-idx3-ubyte.gz\n",
            "-rw-r--r-- 1 root root     79351 Feb 18  2017 emnist-bymerge-test-labels-idx1-ubyte.gz\n",
            "-rw-r--r-- 1 root root 173375281 Feb 18  2017 emnist-bymerge-train-images-idx3-ubyte.gz\n",
            "-rw-r--r-- 1 root root    476444 Feb 18  2017 emnist-bymerge-train-labels-idx1-ubyte.gz\n",
            "-rw-r--r-- 1 root root        60 Feb 18  2017 emnist-digits-mapping.txt\n",
            "-rw-r--r-- 1 root root   9908519 Feb 18  2017 emnist-digits-test-images-idx3-ubyte.gz\n",
            "-rw-r--r-- 1 root root     19960 Feb 18  2017 emnist-digits-test-labels-idx1-ubyte.gz\n",
            "-rw-r--r-- 1 root root  59515779 Feb 18  2017 emnist-digits-train-images-idx3-ubyte.gz\n",
            "-rw-r--r-- 1 root root    113859 Feb 18  2017 emnist-digits-train-labels-idx1-ubyte.gz\n",
            "-rw-r--r-- 1 root root       274 Feb 18  2017 emnist-letters-mapping.txt\n",
            "-rw-r--r-- 1 root root   5039157 Feb 18  2017 emnist-letters-test-images-idx3-ubyte.gz\n",
            "-rw-r--r-- 1 root root       144 Feb 18  2017 emnist-letters-test-labels-idx1-ubyte.gz\n",
            "-rw-r--r-- 1 root root  30804864 Feb 18  2017 emnist-letters-train-images-idx3-ubyte.gz\n",
            "-rw-r--r-- 1 root root     79283 Feb 18  2017 emnist-letters-train-labels-idx1-ubyte.gz\n",
            "-rw-r--r-- 1 root root        60 Feb 18  2017 emnist-mnist-mapping.txt\n",
            "-rw-r--r-- 1 root root   2484884 Feb 18  2017 emnist-mnist-test-images-idx3-ubyte.gz\n",
            "-rw-r--r-- 1 root root      5144 Feb 18  2017 emnist-mnist-test-labels-idx1-ubyte.gz\n",
            "-rw-r--r-- 1 root root  14873795 Feb 18  2017 emnist-mnist-train-images-idx3-ubyte.gz\n",
            "-rw-r--r-- 1 root root     29480 Feb 18  2017 emnist-mnist-train-labels-idx1-ubyte.gz\n",
            "-rw-r--r-- 1 root root  28207740 Feb 18  2017 train-images-idx3-ubyte.gz\n",
            "-rw-r--r-- 1 root root     80618 Feb 18  2017 train-labels-idx1-ubyte.gz\n",
            "WARNING:tensorflow:From <ipython-input-8-a7464c56cf34>:12: read_data_sets (from tensorflow.contrib.learn.python.learn.datasets.mnist) is deprecated and will be removed in a future version.\n",
            "Instructions for updating:\n",
            "Please use alternatives such as official/mnist/dataset.py from tensorflow/models.\n",
            "WARNING:tensorflow:From /usr/local/lib/python3.6/dist-packages/tensorflow/contrib/learn/python/learn/datasets/mnist.py:260: maybe_download (from tensorflow.contrib.learn.python.learn.datasets.base) is deprecated and will be removed in a future version.\n",
            "Instructions for updating:\n",
            "Please write your own downloading logic.\n",
            "WARNING:tensorflow:From /usr/local/lib/python3.6/dist-packages/tensorflow/contrib/learn/python/learn/datasets/mnist.py:262: extract_images (from tensorflow.contrib.learn.python.learn.datasets.mnist) is deprecated and will be removed in a future version.\n",
            "Instructions for updating:\n",
            "Please use tf.data to implement this functionality.\n",
            "Extracting gzip/train-images-idx3-ubyte.gz\n",
            "WARNING:tensorflow:From /usr/local/lib/python3.6/dist-packages/tensorflow/contrib/learn/python/learn/datasets/mnist.py:267: extract_labels (from tensorflow.contrib.learn.python.learn.datasets.mnist) is deprecated and will be removed in a future version.\n",
            "Instructions for updating:\n",
            "Please use tf.data to implement this functionality.\n"
          ],
          "name": "stdout"
        },
        {
          "output_type": "stream",
          "text": [
            "Extracting gzip/train-labels-idx1-ubyte.gz\n",
            "WARNING:tensorflow:From /usr/local/lib/python3.6/dist-packages/tensorflow/contrib/learn/python/learn/datasets/base.py:252: _internal_retry.<locals>.wrap.<locals>.wrapped_fn (from tensorflow.contrib.learn.python.learn.datasets.base) is deprecated and will be removed in a future version.\n",
            "Instructions for updating:\n",
            "Please use urllib or similar directly.\n",
            "Successfully downloaded t10k-images-idx3-ubyte.gz 1648877 bytes.\n",
            "Extracting gzip/t10k-images-idx3-ubyte.gz\n",
            "Successfully downloaded t10k-labels-idx1-ubyte.gz 4542 bytes.\n",
            "Extracting gzip/t10k-labels-idx1-ubyte.gz\n",
            "WARNING:tensorflow:From /usr/local/lib/python3.6/dist-packages/tensorflow/contrib/learn/python/learn/datasets/mnist.py:290: DataSet.__init__ (from tensorflow.contrib.learn.python.learn.datasets.mnist) is deprecated and will be removed in a future version.\n",
            "Instructions for updating:\n",
            "Please use alternatives such as official/mnist/dataset.py from tensorflow/models.\n"
          ],
          "name": "stdout"
        }
      ]
    },
    {
      "metadata": {
        "id": "8w20HzUrlJ1d",
        "colab_type": "code",
        "outputId": "24a15946-a9c0-49af-b6b0-c82cc854d1be",
        "colab": {
          "base_uri": "https://localhost:8080/",
          "height": 364
        }
      },
      "cell_type": "code",
      "source": [
        "plt.imshow(np.reshape(train_data[0], [32, 32]))\n",
        "# train_data = train_data[:10000]"
      ],
      "execution_count": 0,
      "outputs": [
        {
          "output_type": "execute_result",
          "data": {
            "text/plain": [
              "<matplotlib.image.AxesImage at 0x7f123a1a4a90>"
            ]
          },
          "metadata": {
            "tags": []
          },
          "execution_count": 46
        },
        {
          "output_type": "display_data",
          "data": {
            "image/png": "[encoded data removed]",
            "text/plain": [
              "<matplotlib.figure.Figure at 0x7f1225f49a90>"
            ]
          },
          "metadata": {
            "tags": []
          }
        }
      ]
    },
    {
      "metadata": {
        "id": "3Kr7ISCklQtU",
        "colab_type": "code",
        "outputId": "88985c76-1d17-4362-b831-c1840e4d5be0",
        "colab": {
          "base_uri": "https://localhost:8080/",
          "height": 526
        }
      },
      "cell_type": "code",
      "source": [
        "!pip install matplotlib tqdm PyDrive"
      ],
      "execution_count": 0,
      "outputs": [
        {
          "output_type": "stream",
          "text": [
            "Requirement already satisfied: matplotlib in /usr/local/lib/python3.6/dist-packages (2.1.2)\n",
            "Collecting tqdm\n",
            "\u001b[?25l  Downloading https://files.pythonhosted.org/packages/93/24/6ab1df969db228aed36a648a8959d1027099ce45fad67532b9673d533318/tqdm-4.23.4-py2.py3-none-any.whl (42kB)\n",
            "\u001b[K    100% |████████████████████████████████| 51kB 3.6MB/s \n",
            "\u001b[?25hCollecting PyDrive\n",
            "\u001b[?25l  Downloading https://files.pythonhosted.org/packages/52/e0/0e64788e5dd58ce2d6934549676243dc69d982f198524be9b99e9c2a4fd5/PyDrive-1.3.1.tar.gz (987kB)\n",
            "\u001b[K    100% |████████████████████████████████| 993kB 11.4MB/s \n",
            "\u001b[?25hRequirement already satisfied: numpy>=1.7.1 in /usr/local/lib/python3.6/dist-packages (from matplotlib) (1.14.3)\n",
            "Requirement already satisfied: python-dateutil>=2.1 in /usr/local/lib/python3.6/dist-packages (from matplotlib) (2.5.3)\n",
            "Requirement already satisfied: pytz in /usr/local/lib/python3.6/dist-packages (from matplotlib) (2018.4)\n",
            "Requirement already satisfied: cycler>=0.10 in /usr/local/lib/python3.6/dist-packages (from matplotlib) (0.10.0)\n",
            "Requirement already satisfied: six>=1.10 in /usr/local/lib/python3.6/dist-packages (from matplotlib) (1.11.0)\n",
            "Requirement already satisfied: pyparsing!=2.0.4,!=2.1.2,!=2.1.6,>=2.0.1 in /usr/local/lib/python3.6/dist-packages (from matplotlib) (2.2.0)\n",
            "Requirement already satisfied: google-api-python-client>=1.2 in /usr/local/lib/python3.6/dist-packages (from PyDrive) (1.6.7)\n",
            "Requirement already satisfied: oauth2client>=4.0.0 in /usr/local/lib/python3.6/dist-packages (from PyDrive) (4.1.2)\n",
            "Requirement already satisfied: PyYAML>=3.0 in /usr/local/lib/python3.6/dist-packages (from PyDrive) (3.12)\n",
            "Requirement already satisfied: uritemplate<4dev,>=3.0.0 in /usr/local/lib/python3.6/dist-packages (from google-api-python-client>=1.2->PyDrive) (3.0.0)\n",
            "Requirement already satisfied: httplib2<1dev,>=0.9.2 in /usr/local/lib/python3.6/dist-packages (from google-api-python-client>=1.2->PyDrive) (0.11.3)\n",
            "Requirement already satisfied: pyasn1>=0.1.7 in /usr/local/lib/python3.6/dist-packages (from oauth2client>=4.0.0->PyDrive) (0.4.2)\n",
            "Requirement already satisfied: rsa>=3.1.4 in /usr/local/lib/python3.6/dist-packages (from oauth2client>=4.0.0->PyDrive) (3.4.2)\n",
            "Requirement already satisfied: pyasn1-modules>=0.0.5 in /usr/local/lib/python3.6/dist-packages (from oauth2client>=4.0.0->PyDrive) (0.2.1)\n",
            "Building wheels for collected packages: PyDrive\n",
            "  Running setup.py bdist_wheel for PyDrive ... \u001b[?25l-\b \b\\\b \bdone\n",
            "\u001b[?25h  Stored in directory: /content/.cache/pip/wheels/fa/d2/9a/d3b6b506c2da98289e5d417215ce34b696db856643bad779f4\n",
            "Successfully built PyDrive\n",
            "Installing collected packages: tqdm, PyDrive\n",
            "Successfully installed PyDrive-1.3.1 tqdm-4.23.4\n"
          ],
          "name": "stdout"
        }
      ]
    },
    {
      "metadata": {
        "id": "3009aED5rqa9",
        "colab_type": "code",
        "outputId": "41f2ded8-ca79-4c3c-946e-1698609199f9",
        "colab": {
          "base_uri": "https://localhost:8080/",
          "height": 34
        }
      },
      "cell_type": "code",
      "source": [
        "! ls -la Drive"
      ],
      "execution_count": 0,
      "outputs": [
        {
          "output_type": "stream",
          "text": [
            "^C\r\n"
          ],
          "name": "stdout"
        }
      ]
    },
    {
      "metadata": {
        "id": "0c141zzLE_CI",
        "colab_type": "code",
        "colab": {}
      },
      "cell_type": "code",
      "source": [
        "import pickle\n",
        "import numpy as np\n",
        "\n",
        "with open('drive/data_sets/caltech_32x32.pkl', 'rb') as f:\n",
        "    train_data = pickle.load(f)\n",
        "train_data = (np.array(train_data) - 0.5) * 2"
      ],
      "execution_count": 0,
      "outputs": []
    },
    {
      "metadata": {
        "id": "l2M3fYZyD9aH",
        "colab_type": "code",
        "outputId": "090cf67d-7695-4a85-8373-ba7c2125cc2e",
        "colab": {
          "base_uri": "https://localhost:8080/",
          "height": 34
        }
      },
      "cell_type": "code",
      "source": [
        "\n",
        "frombits(tobits(\"test\"))"
      ],
      "execution_count": 0,
      "outputs": [
        {
          "output_type": "execute_result",
          "data": {
            "text/plain": [
              "'test'"
            ]
          },
          "metadata": {
            "tags": []
          },
          "execution_count": 144
        }
      ]
    },
    {
      "metadata": {
        "id": "Re0R1ywNEHx3",
        "colab_type": "code",
        "outputId": "386b631b-0c77-4087-db47-03d322d7f5c0",
        "colab": {
          "base_uri": "https://localhost:8080/",
          "height": 34
        }
      },
      "cell_type": "code",
      "source": [
        "a = [-1.0, 1.0]\n",
        "[int((i+1)/2) for i in a]"
      ],
      "execution_count": 0,
      "outputs": [
        {
          "output_type": "execute_result",
          "data": {
            "text/plain": [
              "[0, 1]"
            ]
          },
          "metadata": {
            "tags": []
          },
          "execution_count": 225
        }
      ]
    },
    {
      "metadata": {
        "id": "m_sWrkIuKhdr",
        "colab_type": "code",
        "colab": {}
      },
      "cell_type": "code",
      "source": [
        "import matplotlib.pyplot as plt\n",
        "import numpy as np\n",
        "\n",
        "def show_images(images, cols = 1, titles = None):\n",
        "    \"\"\"Display a list of images in a single figure with matplotlib.\n",
        "    \n",
        "    Parameters\n",
        "    ---------\n",
        "    images: List of np.arrays compatible with plt.imshow.\n",
        "    \n",
        "    cols (Default = 1): Number of columns in figure (number of rows is \n",
        "                        set to np.ceil(n_images/float(cols))).\n",
        "    \n",
        "    titles: List of titles corresponding to each image. Must have\n",
        "            the same length as titles.\n",
        "    \"\"\"\n",
        "    assert((titles is None)or (len(images) == len(titles)))\n",
        "    n_images = len(images)\n",
        "    if titles is None: titles = ['Image (%d)' % i for i in range(1,n_images + 1)]\n",
        "    fig = plt.figure()\n",
        "    for n, (image, title) in enumerate(zip(images, titles)):\n",
        "        a = fig.add_subplot(cols, np.ceil(n_images/float(cols)), n + 1)\n",
        "        if image.ndim == 2:\n",
        "            plt.gray()\n",
        "        plt.imshow(image)\n",
        "        a.set_title(title)\n",
        "    fig.set_size_inches(np.array(fig.get_size_inches()) * n_images)\n",
        "    plt.show()"
      ],
      "execution_count": 0,
      "outputs": []
    },
    {
      "metadata": {
        "id": "AOlQLzzQh9FT",
        "colab_type": "code",
        "colab": {}
      },
      "cell_type": "code",
      "source": [
        ""
      ],
      "execution_count": 0,
      "outputs": []
    }
  ]
}