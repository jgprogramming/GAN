{
  "nbformat": 4,
  "nbformat_minor": 0,
  "metadata": {
    "colab": {
      "name": "Demo.ipynb",
      "version": "0.3.2",
      "provenance": []
    },
    "kernelspec": {
      "name": "python3",
      "display_name": "Python 3"
    }
  },
  "cells": [
    {
      "cell_type": "code",
      "metadata": {
        "id": "e_qDQW7OmM30",
        "colab_type": "code",
        "colab": {}
      },
      "source": [
        "!rm -rf models* GANCoder\n",
        "!wget --load-cookies /tmp/cookies.txt \"https://docs.google.com/uc?export=download&confirm=$(wget --quiet --save-cookies /tmp/cookies.txt --keep-session-cookies --no-check-certificate 'https://docs.google.com/uc?export=download&id=1YbXB_LpZUJ-vGLYQi0slYCSbergFbjCt' -O- | sed -rn 's/.*confirm=([0-9A-Za-z_]+).*/\\1\\n/p')&id=1YbXB_LpZUJ-vGLYQi0slYCSbergFbjCt\" -O models.zip && rm -rf /tmp/cookies.txt \n",
        "!unzip models.zip\n",
        "!rm models.zip\n",
        "\n",
        "!git clone https://github.com/jgprogramming/GANCoder"
      ],
      "execution_count": 0,
      "outputs": []
    },
    {
      "cell_type": "code",
      "metadata": {
        "id": "RBA-U77myBvg",
        "colab_type": "code",
        "colab": {}
      },
      "source": [
        "from GANCoder.Encoder import Encoder\n",
        "from GANCoder.Encoder import random_message_sample\n",
        "import tensorflow as tf\n",
        "import numpy as np\n",
        "import matplotlib.pyplot as plt"
      ],
      "execution_count": 0,
      "outputs": []
    },
    {
      "cell_type": "code",
      "metadata": {
        "id": "J3H2rpZVxbOe",
        "colab_type": "code",
        "colab": {}
      },
      "source": [
        "tf.reset_default_graph()\n",
        "session = tf.Session()\n",
        "encoder = Encoder(session, message_size=16)\n",
        "encoder.load('models/mnist_32x32')"
      ],
      "execution_count": 0,
      "outputs": []
    },
    {
      "cell_type": "code",
      "metadata": {
        "id": "LVvCyU__0F2F",
        "colab_type": "code",
        "colab": {}
      },
      "source": [
        "message = (random_message_sample((1,16,1,1)) - 0.5) * 2\n",
        "image = encoder.encode(message, np.random.normal(0, 1, (1, 16, 1, 1)))\n",
        "decoded_message = encoder.decode(image)\n",
        "\n",
        "print(\"message: \" + str(message.flatten()))\n",
        "print(\"decoded: \" + str(np.where(decoded_message.flatten() > 0 , 1., -1.)))\n",
        "plt.imshow(np.reshape(image.T, (32, 32)), cmap='gray')"
      ],
      "execution_count": 0,
      "outputs": []
    },
    {
      "cell_type": "code",
      "metadata": {
        "id": "CKQtpXDgmtBu",
        "colab_type": "code",
        "colab": {}
      },
      "source": [
        "tf.reset_default_graph()\n",
        "session = tf.Session()\n",
        "encoder = Encoder(session, message_size=24)\n",
        "encoder.load('models/emnist_32x32')"
      ],
      "execution_count": 0,
      "outputs": []
    },
    {
      "cell_type": "code",
      "metadata": {
        "id": "54KEqOMr791r",
        "colab_type": "code",
        "colab": {}
      },
      "source": [
        "message = (random_message_sample((1,24,1,1)) - 0.5) * 2\n",
        "image = encoder.encode(message, np.random.normal(0, 1, (1, 24, 1, 1)))\n",
        "decoded_message = encoder.decode(image)\n",
        "\n",
        "print(\"message: \" + str(message.flatten()))\n",
        "print(\"decoded: \" + str(np.where(decoded_message.flatten() > 0 , 1., -1.)))\n",
        "plt.imshow(np.reshape(image.T, (32, 32)), cmap='gray')"
      ],
      "execution_count": 0,
      "outputs": []
    }
  ]
}