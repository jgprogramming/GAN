{
 "cells": [
  {
   "cell_type": "code",
   "execution_count": null,
   "metadata": {
    "collapsed": true
   },
   "outputs": [],
   "source": [
    "#Import the libraries we will need.\n",
    "import tensorflow as tf\n",
    "import numpy as np\n",
    "import matplotlib.pyplot as plt\n",
    "import tensorflow.contrib.slim as slim\n",
    "import os\n",
    "import scipy.misc\n",
    "import scipy\n",
    "import sklearn.datasets"
   ]
  },
  {
   "cell_type": "code",
   "execution_count": null,
   "metadata": {
    "collapsed": true
   },
   "outputs": [],
   "source": [
    "BATCH_SIZE=100"
   ]
  },
  {
   "cell_type": "code",
   "execution_count": null,
   "metadata": {
    "collapsed": true
   },
   "outputs": [],
   "source": [
    "images = sklearn.datasets.load_digits().images\n",
    "m = images.max()\n",
    "images /= m\n",
    "reshape = tf.reshape(images, shape=[-1,8,8,1])\n",
    "with tf.Session() as sess:\n",
    "    image_reshaped = sess.run(reshape)\n",
    "    image_labels = sklearn.datasets.load_digits().target\n",
    "    for i in range(0, len(image_labels)):\n",
    "        if image_labels[i] == 0:\n",
    "            image_labels[i] = 1\n",
    "        else:\n",
    "            image_labels[i] = 0\n",
    "    image_labels = np.reshape(image_labels, [1797, 1])"
   ]
  },
  {
   "cell_type": "code",
   "execution_count": null,
   "metadata": {
    "collapsed": true
   },
   "outputs": [],
   "source": [
    "def discriminator_decoder(input_batch):\n",
    "    pool_1 = tf.layers.average_pooling2d(inputs=input_batch, pool_size=[4, 4], strides=4)\n",
    "    pool1_flat = tf.reshape(pool_1, [-1, 2 * 2 * 1])\n",
    "    return pool1_flat"
   ]
  },
  {
   "cell_type": "code",
   "execution_count": null,
   "metadata": {
    "collapsed": true
   },
   "outputs": [],
   "source": []
  }
 ],
 "metadata": {
  "kernelspec": {
   "display_name": "Python 3",
   "language": "python",
   "name": "python3"
  },
  "language_info": {
   "codemirror_mode": {
    "name": "ipython",
    "version": 3
   },
   "file_extension": ".py",
   "mimetype": "text/x-python",
   "name": "python",
   "nbconvert_exporter": "python",
   "pygments_lexer": "ipython3",
   "version": "3.6.3"
  }
 },
 "nbformat": 4,
 "nbformat_minor": 2
}
